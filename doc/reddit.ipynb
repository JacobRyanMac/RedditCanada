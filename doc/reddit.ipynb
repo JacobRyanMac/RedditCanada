{
 "cells": [
  {
   "cell_type": "code",
   "execution_count": 1,
   "metadata": {
    "collapsed": true
   },
   "outputs": [],
   "source": [
    "import pandas as pd\n",
    "import numpy as np\n",
    "\n",
    "# Useful function for making training and testing sets\n",
    "def split_train_test(data, test_ratio):\n",
    "    shuffled_indices = np.random.permutation(len(data))\n",
    "    test_set_size = int(len(data) * test_ratio)\n",
    "    test_indices = shuffled_indices[:test_set_size]\n",
    "    train_indices = shuffled_indices[test_set_size:]\n",
    "    return data.iloc[train_indices], data.iloc[test_indices]"
   ]
  },
  {
   "cell_type": "code",
   "execution_count": 2,
   "metadata": {
    "collapsed": true
   },
   "outputs": [],
   "source": [
    "all_comments_labeled = pd.read_csv(\"comments_labeled.csv\", sep='\\t')"
   ]
  },
  {
   "cell_type": "code",
   "execution_count": 3,
   "metadata": {
    "scrolled": false
   },
   "outputs": [
    {
     "name": "stdout",
     "output_type": "stream",
     "text": [
      "<class 'pandas.core.frame.DataFrame'>\n",
      "RangeIndex: 267945 entries, 0 to 267944\n",
      "Data columns (total 19 columns):\n",
      "label                 267945 non-null object\n",
      "sub_title             267945 non-null object\n",
      "sub_domain            267945 non-null object\n",
      "sub_score             267945 non-null int64\n",
      "sub_ratio             267945 non-null float64\n",
      "sub_total_comments    267945 non-null int64\n",
      "comment_id            267945 non-null object\n",
      "submission_id         267945 non-null object\n",
      "user_id               267945 non-null object\n",
      "user_flair            267945 non-null object\n",
      "upvotes               267945 non-null int64\n",
      "controversiality      267945 non-null int64\n",
      "gold                  267945 non-null int64\n",
      "depth                 267945 non-null int64\n",
      "parent_id             267945 non-null object\n",
      "created               267945 non-null object\n",
      "edited                267945 non-null int64\n",
      "body                  267932 non-null object\n",
      "deleted               267945 non-null int64\n",
      "dtypes: float64(1), int64(8), object(10)\n",
      "memory usage: 38.8+ MB\n"
     ]
    }
   ],
   "source": [
    "all_comments_labeled.info()"
   ]
  },
  {
   "cell_type": "code",
   "execution_count": 5,
   "metadata": {
    "collapsed": true
   },
   "outputs": [],
   "source": [
    "comments = all_comments_labeled.copy()\n",
    "comments = comments.drop(comments[comments['body'].isnull()].index)"
   ]
  },
  {
   "cell_type": "code",
   "execution_count": 6,
   "metadata": {
    "scrolled": true
   },
   "outputs": [
    {
     "name": "stdout",
     "output_type": "stream",
     "text": [
      "<class 'pandas.core.frame.DataFrame'>\n",
      "Int64Index: 267932 entries, 0 to 267944\n",
      "Data columns (total 19 columns):\n",
      "label                 267932 non-null object\n",
      "sub_title             267932 non-null object\n",
      "sub_domain            267932 non-null object\n",
      "sub_score             267932 non-null int64\n",
      "sub_ratio             267932 non-null float64\n",
      "sub_total_comments    267932 non-null int64\n",
      "comment_id            267932 non-null object\n",
      "submission_id         267932 non-null object\n",
      "user_id               267932 non-null object\n",
      "user_flair            267932 non-null object\n",
      "upvotes               267932 non-null int64\n",
      "controversiality      267932 non-null int64\n",
      "gold                  267932 non-null int64\n",
      "depth                 267932 non-null int64\n",
      "parent_id             267932 non-null object\n",
      "created               267932 non-null object\n",
      "edited                267932 non-null int64\n",
      "body                  267932 non-null object\n",
      "deleted               267932 non-null int64\n",
      "dtypes: float64(1), int64(8), object(10)\n",
      "memory usage: 40.9+ MB\n"
     ]
    }
   ],
   "source": [
    "comments.info()"
   ]
  },
  {
   "cell_type": "code",
   "execution_count": 8,
   "metadata": {
    "collapsed": true
   },
   "outputs": [],
   "source": [
    "# Named all the attributes. The only one not here is the label\n",
    "# 'upvotes' is the current label, should be in num_attribs\n",
    "num_attribs = ['sub_score','sub_ratio','sub_total_comments']\n",
    "cat_attribs = ['sub_domain','user_flair','gold','depth','created']\n",
    "bool_attribs = ['edited','deleted','controversiality']\n",
    "id_attribs = ['submission_id','comment_id','user_id','parent_id']\n",
    "str_attribs = ['sub_title','body']"
   ]
  },
  {
   "cell_type": "code",
   "execution_count": 12,
   "metadata": {
    "scrolled": false
   },
   "outputs": [
    {
     "data": {
      "text/html": [
       "<div>\n",
       "<style>\n",
       "    .dataframe thead tr:only-child th {\n",
       "        text-align: right;\n",
       "    }\n",
       "\n",
       "    .dataframe thead th {\n",
       "        text-align: left;\n",
       "    }\n",
       "\n",
       "    .dataframe tbody tr th {\n",
       "        vertical-align: top;\n",
       "    }\n",
       "</style>\n",
       "<table border=\"1\" class=\"dataframe\">\n",
       "  <thead>\n",
       "    <tr style=\"text-align: right;\">\n",
       "      <th></th>\n",
       "      <th>label</th>\n",
       "      <th>sub_domain</th>\n",
       "      <th>sub_score</th>\n",
       "      <th>sub_ratio</th>\n",
       "      <th>sub_total_comments</th>\n",
       "      <th>user_flair</th>\n",
       "      <th>upvotes</th>\n",
       "      <th>controversiality</th>\n",
       "      <th>gold</th>\n",
       "      <th>depth</th>\n",
       "      <th>created</th>\n",
       "      <th>edited</th>\n",
       "      <th>deleted</th>\n",
       "    </tr>\n",
       "  </thead>\n",
       "  <tbody>\n",
       "    <tr>\n",
       "      <th>0</th>\n",
       "      <td>News</td>\n",
       "      <td>globalnews.ca</td>\n",
       "      <td>68</td>\n",
       "      <td>0.9</td>\n",
       "      <td>108</td>\n",
       "      <td>None</td>\n",
       "      <td>1</td>\n",
       "      <td>0</td>\n",
       "      <td>0</td>\n",
       "      <td>0</td>\n",
       "      <td>2017-07-17</td>\n",
       "      <td>0</td>\n",
       "      <td>0</td>\n",
       "    </tr>\n",
       "    <tr>\n",
       "      <th>1</th>\n",
       "      <td>News</td>\n",
       "      <td>globalnews.ca</td>\n",
       "      <td>68</td>\n",
       "      <td>0.9</td>\n",
       "      <td>108</td>\n",
       "      <td>None</td>\n",
       "      <td>1</td>\n",
       "      <td>0</td>\n",
       "      <td>0</td>\n",
       "      <td>0</td>\n",
       "      <td>2017-07-17</td>\n",
       "      <td>0</td>\n",
       "      <td>0</td>\n",
       "    </tr>\n",
       "    <tr>\n",
       "      <th>2</th>\n",
       "      <td>News</td>\n",
       "      <td>globalnews.ca</td>\n",
       "      <td>68</td>\n",
       "      <td>0.9</td>\n",
       "      <td>108</td>\n",
       "      <td>None</td>\n",
       "      <td>1</td>\n",
       "      <td>0</td>\n",
       "      <td>0</td>\n",
       "      <td>0</td>\n",
       "      <td>2017-07-17</td>\n",
       "      <td>0</td>\n",
       "      <td>0</td>\n",
       "    </tr>\n",
       "    <tr>\n",
       "      <th>3</th>\n",
       "      <td>News</td>\n",
       "      <td>globalnews.ca</td>\n",
       "      <td>68</td>\n",
       "      <td>0.9</td>\n",
       "      <td>108</td>\n",
       "      <td>None</td>\n",
       "      <td>1</td>\n",
       "      <td>0</td>\n",
       "      <td>0</td>\n",
       "      <td>0</td>\n",
       "      <td>2017-07-17</td>\n",
       "      <td>0</td>\n",
       "      <td>0</td>\n",
       "    </tr>\n",
       "    <tr>\n",
       "      <th>4</th>\n",
       "      <td>News</td>\n",
       "      <td>globalnews.ca</td>\n",
       "      <td>68</td>\n",
       "      <td>0.9</td>\n",
       "      <td>108</td>\n",
       "      <td>None</td>\n",
       "      <td>1</td>\n",
       "      <td>0</td>\n",
       "      <td>0</td>\n",
       "      <td>0</td>\n",
       "      <td>2017-07-17</td>\n",
       "      <td>0</td>\n",
       "      <td>0</td>\n",
       "    </tr>\n",
       "  </tbody>\n",
       "</table>\n",
       "</div>"
      ],
      "text/plain": [
       "  label     sub_domain  sub_score  sub_ratio  sub_total_comments user_flair  \\\n",
       "0  News  globalnews.ca         68        0.9                 108       None   \n",
       "1  News  globalnews.ca         68        0.9                 108       None   \n",
       "2  News  globalnews.ca         68        0.9                 108       None   \n",
       "3  News  globalnews.ca         68        0.9                 108       None   \n",
       "4  News  globalnews.ca         68        0.9                 108       None   \n",
       "\n",
       "   upvotes  controversiality  gold  depth     created  edited  deleted  \n",
       "0        1                 0     0      0  2017-07-17       0        0  \n",
       "1        1                 0     0      0  2017-07-17       0        0  \n",
       "2        1                 0     0      0  2017-07-17       0        0  \n",
       "3        1                 0     0      0  2017-07-17       0        0  \n",
       "4        1                 0     0      0  2017-07-17       0        0  "
      ]
     },
     "execution_count": 12,
     "metadata": {},
     "output_type": "execute_result"
    }
   ],
   "source": [
    "# Drop the columns we won't use for regular predicition\n",
    "def drop_non_data_col(ac):\n",
    "    ac = ac.drop(id_attribs, axis=1)\n",
    "    ac = ac.drop(str_attribs, axis=1)\n",
    "    return ac\n",
    "\n",
    "ac_data = drop_non_data_col(comments)\n",
    "ac_data.head()"
   ]
  },
  {
   "cell_type": "code",
   "execution_count": 13,
   "metadata": {
    "collapsed": true
   },
   "outputs": [],
   "source": [
    "ac_train, ac_test = split_train_test(ac_data,0.2)"
   ]
  },
  {
   "cell_type": "code",
   "execution_count": 14,
   "metadata": {
    "collapsed": true
   },
   "outputs": [],
   "source": [
    "ac_tr = ac_train.drop('upvotes',axis=1)\n",
    "ac_tr_label = ac_train['upvotes'].copy()"
   ]
  },
  {
   "cell_type": "code",
   "execution_count": 15,
   "metadata": {},
   "outputs": [
    {
     "data": {
      "text/plain": [
       "0    203114\n",
       "1     11232\n",
       "Name: edited, dtype: int64"
      ]
     },
     "execution_count": 15,
     "metadata": {},
     "output_type": "execute_result"
    }
   ],
   "source": [
    "ac_tr['edited'].value_counts()"
   ]
  },
  {
   "cell_type": "code",
   "execution_count": 16,
   "metadata": {
    "scrolled": true
   },
   "outputs": [
    {
     "data": {
      "text/plain": [
       "0    203114\n",
       "1     11232\n",
       "Name: edited, dtype: int64"
      ]
     },
     "execution_count": 16,
     "metadata": {},
     "output_type": "execute_result"
    }
   ],
   "source": [
    "ac_tr['edited'].value_counts()"
   ]
  },
  {
   "cell_type": "code",
   "execution_count": 17,
   "metadata": {
    "scrolled": false
   },
   "outputs": [
    {
     "data": {
      "text/plain": [
       "0    197027\n",
       "1     17319\n",
       "Name: controversiality, dtype: int64"
      ]
     },
     "execution_count": 17,
     "metadata": {},
     "output_type": "execute_result"
    }
   ],
   "source": [
    "ac_tr['controversiality'].value_counts()"
   ]
  },
  {
   "cell_type": "code",
   "execution_count": 18,
   "metadata": {
    "scrolled": true
   },
   "outputs": [
    {
     "data": {
      "text/plain": [
       "0    206068\n",
       "1      8278\n",
       "Name: deleted, dtype: int64"
      ]
     },
     "execution_count": 18,
     "metadata": {},
     "output_type": "execute_result"
    }
   ],
   "source": [
    "ac_tr['deleted'].value_counts()"
   ]
  },
  {
   "cell_type": "markdown",
   "metadata": {},
   "source": [
    "The boolean values all seem to be worthwhile using."
   ]
  },
  {
   "cell_type": "code",
   "execution_count": 20,
   "metadata": {
    "scrolled": true
   },
   "outputs": [
    {
     "name": "stdout",
     "output_type": "stream",
     "text": [
      "-------------\n",
      "cbc.ca                         45338\n",
      "self.canada                    21459\n",
      "theglobeandmail.com            14819\n",
      "i.redd.it                      11147\n",
      "globalnews.ca                   9290\n",
      "thestar.com                     8366\n",
      "ctvnews.ca                      6550\n",
      "nationalpost.com                5666\n",
      "imgur.com                       5372\n",
      "i.imgur.com                     4660\n",
      "youtube.com                     4571\n",
      "macleans.ca                     4231\n",
      "news.nationalpost.com           3995\n",
      "twitter.com                     3927\n",
      "huffingtonpost.ca               3256\n",
      "thebeaverton.com                2968\n",
      "business.financialpost.com      2934\n",
      "vancouversun.com                2481\n",
      "pbs.twimg.com                   2417\n",
      "ottawacitizen.com               2339\n",
      "ipolitics.ca                    1988\n",
      "bloomberg.com                   1520\n",
      "montrealgazette.com             1448\n",
      "beta.theglobeandmail.com        1382\n",
      "angusreid.org                   1360\n",
      "nationalobserver.com            1299\n",
      "youtu.be                        1282\n",
      "torontosun.com                  1249\n",
      "pm.gc.ca                        1198\n",
      "cnews.canoe.com                 1056\n",
      "                               ...  \n",
      "inhabitat.com                     28\n",
      "en.m.wikipedia.org                27\n",
      "cnbc.com                          26\n",
      "halfmast.ca                       26\n",
      "canadahistoryproject.ca           25\n",
      "ottawa.ctvnews.ca                 25\n",
      "manchestereveningnews.co.uk       24\n",
      "therecord.com                     22\n",
      "weather.gc.ca                     22\n",
      "i.cbc.ca                          21\n",
      "economist.com                     21\n",
      "techdirt.com                      19\n",
      "onthisday.com                     19\n",
      "us7.campaign-archive1.com         15\n",
      "knightfrank.com                   15\n",
      "irishcentral.com                  14\n",
      "uproxx.com                        12\n",
      "pre04.deviantart.net              11\n",
      "billburr.com                      11\n",
      "engadget.com                      10\n",
      "tsn.ca                            10\n",
      "theverge.com                       8\n",
      "medicinehatnews.com                8\n",
      "flic.kr                            8\n",
      "canadalandshow.com                 7\n",
      "csnphilly.com                      7\n",
      "sfchronicle.com                    6\n",
      "gov.nu.ca                          6\n",
      "nationalgeographic.com             5\n",
      "media.giphy.com                    5\n",
      "Name: sub_domain, Length: 217, dtype: int64\n",
      "-------------\n",
      "None      160737\n",
      "ON         14774\n",
      "BC          8211\n",
      "CAN         7704\n",
      "AB          6580\n",
      "QC          4041\n",
      "poppy       3610\n",
      "MB          2334\n",
      "NB          1545\n",
      "NS          1506\n",
      "SK          1240\n",
      "globe       1045\n",
      "NL           383\n",
      "PE           231\n",
      "NU           165\n",
      "NT           132\n",
      "santa         53\n",
      "YU            21\n",
      "grinch        16\n",
      "iran          13\n",
      "sweden         5\n",
      "Name: user_flair, dtype: int64\n",
      "-------------\n",
      "0    214312\n",
      "1        32\n",
      "3         1\n",
      "2         1\n",
      "Name: gold, dtype: int64\n",
      "-------------\n",
      "1    38302\n",
      "2    34907\n",
      "0    30781\n",
      "3    29845\n",
      "4    23958\n",
      "5    18616\n",
      "6    14015\n",
      "7    10343\n",
      "8     7801\n",
      "9     5778\n",
      "Name: depth, dtype: int64\n",
      "-------------\n",
      "2017-07-05    5925\n",
      "2017-07-06    5316\n",
      "2017-07-12    4961\n",
      "2017-06-25    4652\n",
      "2017-07-14    4648\n",
      "2017-07-01    4526\n",
      "2017-07-13    4480\n",
      "2017-06-30    4293\n",
      "2017-05-30    4238\n",
      "2017-07-04    4232\n",
      "2017-07-07    4178\n",
      "2017-06-26    4151\n",
      "2017-06-15    4139\n",
      "2017-05-31    4106\n",
      "2017-07-10    3953\n",
      "2017-07-11    3946\n",
      "2017-06-13    3922\n",
      "2017-05-28    3874\n",
      "2017-07-17    3825\n",
      "2017-06-28    3789\n",
      "2017-06-29    3784\n",
      "2017-07-08    3703\n",
      "2017-06-19    3700\n",
      "2017-06-16    3698\n",
      "2017-06-23    3643\n",
      "2017-06-02    3577\n",
      "2017-06-06    3569\n",
      "2017-06-01    3482\n",
      "2017-06-21    3447\n",
      "2017-07-09    3427\n",
      "              ... \n",
      "2017-05-24    3306\n",
      "2017-06-05    3234\n",
      "2017-06-07    3225\n",
      "2017-05-25    3183\n",
      "2017-07-21    3169\n",
      "2017-06-14    3092\n",
      "2017-05-29    3013\n",
      "2017-06-08    2975\n",
      "2017-06-24    2970\n",
      "2017-05-23    2909\n",
      "2017-06-17    2907\n",
      "2017-07-15    2839\n",
      "2017-07-19    2681\n",
      "2017-07-22    2680\n",
      "2017-06-12    2678\n",
      "2017-06-09    2666\n",
      "2017-06-03    2561\n",
      "2017-07-02    2531\n",
      "2017-06-04    2469\n",
      "2017-07-03    2469\n",
      "2017-06-18    2384\n",
      "2017-07-23    2378\n",
      "2017-06-11    2231\n",
      "2017-06-10    2067\n",
      "2017-05-26    2046\n",
      "2017-05-22    1936\n",
      "2017-05-21    1874\n",
      "2017-05-27    1570\n",
      "2017-07-18     397\n",
      "2017-05-20       4\n",
      "Name: created, Length: 65, dtype: int64\n"
     ]
    }
   ],
   "source": [
    "for x in cat_attribs:\n",
    "    print('-------------')\n",
    "    print(ac_tr[x].value_counts())"
   ]
  },
  {
   "cell_type": "markdown",
   "metadata": {},
   "source": [
    "Gold seems to be useless, may want to drop it. Massive outliers.\n",
    "\n",
    "sub_domain is very wild: large outliers that may need to be changed.\n",
    "\n",
    "user_flair has one large outlier, but the rest are pretty close (this is correlated to the population of canadians)\n",
    "\n",
    "depth is fine. Interesting that there are more replies then posted comments."
   ]
  },
  {
   "cell_type": "markdown",
   "metadata": {},
   "source": [
    "## Format the data"
   ]
  },
  {
   "cell_type": "code",
   "execution_count": 21,
   "metadata": {
    "collapsed": true
   },
   "outputs": [],
   "source": [
    "from sklearn.base import BaseEstimator, TransformerMixin\n",
    "class DataFrameSelector(BaseEstimator,TransformerMixin):\n",
    "    def __init__(self, attribute_names):\n",
    "        self.attribute_names = attribute_names\n",
    "    def fit(self, X, y=None):\n",
    "        return self\n",
    "    def transform(self,X):\n",
    "        return X[self.attribute_names].values"
   ]
  },
  {
   "cell_type": "code",
   "execution_count": 22,
   "metadata": {
    "collapsed": true
   },
   "outputs": [],
   "source": [
    "from sklearn.preprocessing import LabelBinarizer\n",
    "from sklearn.pipeline import Pipeline\n",
    "\n",
    "domain_pipeline = Pipeline([\n",
    "        ('selector', DataFrameSelector(cat_attribs[0])),\n",
    "        ('label_binarizer', LabelBinarizer())\n",
    "    ])\n",
    "user_flair_pipeline = Pipeline([\n",
    "        ('selector', DataFrameSelector(cat_attribs[1])),\n",
    "        ('label_binarizer', LabelBinarizer())\n",
    "    ])\n",
    "gold_pipeline = Pipeline([\n",
    "        ('selector', DataFrameSelector(cat_attribs[2])),\n",
    "        ('label_binarizer', LabelBinarizer())\n",
    "    ])\n",
    "depth_pipeline = Pipeline([\n",
    "        ('selector', DataFrameSelector(cat_attribs[3])),\n",
    "        ('label_binarizer', LabelBinarizer())\n",
    "    ])"
   ]
  },
  {
   "cell_type": "code",
   "execution_count": 23,
   "metadata": {
    "collapsed": true
   },
   "outputs": [],
   "source": [
    "from sklearn.preprocessing import StandardScaler\n",
    "num_pipeline = Pipeline([\n",
    "        ('selector', DataFrameSelector(num_attribs)),\n",
    "        ('std_scaler', StandardScaler())\n",
    "    ])"
   ]
  },
  {
   "cell_type": "code",
   "execution_count": 24,
   "metadata": {
    "collapsed": true
   },
   "outputs": [],
   "source": [
    "bool_pipeline = Pipeline([\n",
    "        ('selector', DataFrameSelector(bool_attribs))\n",
    "])"
   ]
  },
  {
   "cell_type": "code",
   "execution_count": 25,
   "metadata": {
    "collapsed": true
   },
   "outputs": [],
   "source": [
    "from sklearn.pipeline import FeatureUnion\n",
    "\n",
    "full_pipeline = FeatureUnion(transformer_list=[\n",
    "        (\"bool_pipepline\",bool_pipeline),\n",
    "        (\"num_pipepline\",num_pipeline),\n",
    "        (\"domain_pipeline\", domain_pipeline),\n",
    "        (\"user_flair_pipeline\", user_flair_pipeline),\n",
    "        (\"gold_pipeline\", gold_pipeline),\n",
    "        (\"depth_pipeline\", depth_pipeline),\n",
    "    ])"
   ]
  },
  {
   "cell_type": "code",
   "execution_count": 26,
   "metadata": {
    "collapsed": true
   },
   "outputs": [],
   "source": [
    "ac_tr_prepared = full_pipeline.fit_transform(ac_train)"
   ]
  },
  {
   "cell_type": "code",
   "execution_count": 27,
   "metadata": {},
   "outputs": [
    {
     "data": {
      "text/plain": [
       "(214346, 258)"
      ]
     },
     "execution_count": 27,
     "metadata": {},
     "output_type": "execute_result"
    }
   ],
   "source": [
    "ac_tr_prepared.shape"
   ]
  },
  {
   "cell_type": "code",
   "execution_count": 28,
   "metadata": {},
   "outputs": [
    {
     "data": {
      "text/plain": [
       "LinearRegression(copy_X=True, fit_intercept=True, n_jobs=1, normalize=False)"
      ]
     },
     "execution_count": 28,
     "metadata": {},
     "output_type": "execute_result"
    }
   ],
   "source": [
    "from sklearn.linear_model import LinearRegression\n",
    "\n",
    "lin_reg = LinearRegression()\n",
    "lin_reg.fit(ac_tr_prepared, ac_tr_label)"
   ]
  },
  {
   "cell_type": "code",
   "execution_count": 24,
   "metadata": {},
   "outputs": [
    {
     "name": "stdout",
     "output_type": "stream",
     "text": [
      "predictions:\t [  1.95736694   2.89160156   6.73477173   3.56982422  19.75454712]\n",
      "Labels:\t\t [6, 15, 5, 18, 3]\n"
     ]
    }
   ],
   "source": [
    "some_data = ac_tr.iloc[:5]\n",
    "some_labels = ac_tr_label.iloc[:5]\n",
    "some_data_prepared = full_pipeline.transform(some_data)\n",
    "print(\"predictions:\\t\", lin_reg.predict(some_data_prepared))\n",
    "print(\"Labels:\\t\\t\", list(some_labels))"
   ]
  },
  {
   "cell_type": "code",
   "execution_count": 25,
   "metadata": {},
   "outputs": [
    {
     "data": {
      "text/plain": [
       "43.463991464096416"
      ]
     },
     "execution_count": 25,
     "metadata": {},
     "output_type": "execute_result"
    }
   ],
   "source": [
    "from sklearn.metrics import mean_squared_error\n",
    "\n",
    "ac_predictions = lin_reg.predict(ac_tr_prepared)\n",
    "lin_mse = mean_squared_error(ac_tr_label, ac_predictions)\n",
    "lin_rmse = np.sqrt(lin_mse)\n",
    "lin_rmse"
   ]
  },
  {
   "cell_type": "code",
   "execution_count": 26,
   "metadata": {},
   "outputs": [
    {
     "data": {
      "text/plain": [
       "36.435088431477709"
      ]
     },
     "execution_count": 26,
     "metadata": {},
     "output_type": "execute_result"
    }
   ],
   "source": [
    "from sklearn.tree import DecisionTreeRegressor\n",
    "\n",
    "tree_reg = DecisionTreeRegressor()\n",
    "tree_reg.fit(ac_tr_prepared, ac_tr_label)\n",
    "\n",
    "ac_predictions = tree_reg.predict(ac_tr_prepared)\n",
    "tree_mse = mean_squared_error(ac_tr_label, ac_predictions)\n",
    "tree_rmse = np.sqrt(tree_mse)\n",
    "tree_rmse"
   ]
  },
  {
   "cell_type": "code",
   "execution_count": 29,
   "metadata": {},
   "outputs": [
    {
     "name": "stdout",
     "output_type": "stream",
     "text": [
      "predictions:\t [  2.6         15.           3.5          9.33333333   2.5         10.14285714\n",
      "   5.61538462   0.25        17.83333333 -16.        ]\n",
      "Labels:\t\t [6, 15, 5, 18, 3, 17, 2, 1, 43, -16]\n"
     ]
    }
   ],
   "source": [
    "some_data = ac_tr.iloc[:10]\n",
    "some_labels = ac_tr_label.iloc[:10]\n",
    "some_data_prepared = full_pipeline.transform(some_data)\n",
    "print(\"predictions:\\t\", tree_reg.predict(some_data_prepared))\n",
    "print(\"Labels:\\t\\t\", list(some_labels))"
   ]
  },
  {
   "cell_type": "markdown",
   "metadata": {},
   "source": [
    "## Search for parameters"
   ]
  },
  {
   "cell_type": "code",
   "execution_count": 28,
   "metadata": {},
   "outputs": [
    {
     "ename": "NameError",
     "evalue": "name 'RandomForestRegressor' is not defined",
     "output_type": "error",
     "traceback": [
      "\u001b[1;31m---------------------------------------------------------------------------\u001b[0m",
      "\u001b[1;31mNameError\u001b[0m                                 Traceback (most recent call last)",
      "\u001b[1;32m<ipython-input-28-90788a426b51>\u001b[0m in \u001b[0;36m<module>\u001b[1;34m()\u001b[0m\n\u001b[0;32m      6\u001b[0m   ]\n\u001b[0;32m      7\u001b[0m \u001b[1;33m\u001b[0m\u001b[0m\n\u001b[1;32m----> 8\u001b[1;33m \u001b[0mfores_reg\u001b[0m \u001b[1;33m=\u001b[0m \u001b[0mRandomForestRegressor\u001b[0m\u001b[1;33m(\u001b[0m\u001b[1;33m)\u001b[0m\u001b[1;33m\u001b[0m\u001b[0m\n\u001b[0m\u001b[0;32m      9\u001b[0m \u001b[1;33m\u001b[0m\u001b[0m\n\u001b[0;32m     10\u001b[0m grid_search = GridSearchCV(forest_reg, param_grid, cv=5,\n",
      "\u001b[1;31mNameError\u001b[0m: name 'RandomForestRegressor' is not defined"
     ]
    }
   ],
   "source": [
    "from sklearn.model_selection import GridSearchCV\n",
    "\n",
    "param_grid = [\n",
    "    {'n_estimators': [3, 10, 30], 'max_features': [2, 4, 6, 8]},\n",
    "    {'bootstrap': [False], 'n_estimators': [3, 10], 'max_features': [2, 3, 4]},\n",
    "  ]\n",
    "\n",
    "fores_reg = RandomForestRegressor()\n",
    "\n",
    "grid_search = GridSearchCV(forest_reg, param_grid, cv=5,\n",
    "                           scoring='neg_mean_squared_error')\n",
    "grid_search.fit(housing_prepared, housing_labels)"
   ]
  }
 ],
 "metadata": {
  "kernelspec": {
   "display_name": "Python 3",
   "language": "python",
   "name": "python3"
  },
  "language_info": {
   "codemirror_mode": {
    "name": "ipython",
    "version": 3
   },
   "file_extension": ".py",
   "mimetype": "text/x-python",
   "name": "python",
   "nbconvert_exporter": "python",
   "pygments_lexer": "ipython3",
   "version": "3.6.1"
  }
 },
 "nbformat": 4,
 "nbformat_minor": 2
}
