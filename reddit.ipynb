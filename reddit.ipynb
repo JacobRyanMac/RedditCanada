{
 "cells": [
  {
   "cell_type": "code",
   "execution_count": 2,
   "metadata": {
    "collapsed": true
   },
   "outputs": [],
   "source": [
    "import pandas as pd\n",
    "import numpy as np\n",
    "\n",
    "# Useful function for making training and testing sets\n",
    "def split_train_test(data, test_ratio):\n",
    "    shuffled_indices = np.random.permutation(len(data))\n",
    "    test_set_size = int(len(data) * test_ratio)\n",
    "    test_indices = shuffled_indices[:test_set_size]\n",
    "    train_indices = shuffled_indices[test_set_size:]\n",
    "    return data.iloc[train_indices], data.iloc[test_indices]"
   ]
  },
  {
   "cell_type": "code",
   "execution_count": 3,
   "metadata": {
    "collapsed": true
   },
   "outputs": [],
   "source": [
    "all_comments_labeled = pd.read_csv(\"comments_labeled.csv\", sep='\\t')\n",
    "# all_comments = pd.read_csv(\"datasets/reddit/comments.csv\", sep='\\t')\n",
    "# all_subs = pd.read_csv(\"datasets/reddit/submissions.csv\", sep='\\t')"
   ]
  },
  {
   "cell_type": "code",
   "execution_count": 4,
   "metadata": {
    "scrolled": false
   },
   "outputs": [
    {
     "name": "stdout",
     "output_type": "stream",
     "text": [
      "<class 'pandas.core.frame.DataFrame'>\n",
      "RangeIndex: 250112 entries, 0 to 250111\n",
      "Data columns (total 19 columns):\n",
      "label                 250112 non-null object\n",
      "sub_title             250112 non-null object\n",
      "sub_domain            250112 non-null object\n",
      "sub_score             250112 non-null int64\n",
      "sub_ratio             250112 non-null float64\n",
      "sub_total_comments    250112 non-null int64\n",
      "comment_id            250112 non-null object\n",
      "submission_id         250112 non-null object\n",
      "user_id               250112 non-null object\n",
      "user_flair            250112 non-null object\n",
      "upvotes               250112 non-null int64\n",
      "controversiality      250112 non-null int64\n",
      "gold                  250112 non-null int64\n",
      "depth                 250112 non-null int64\n",
      "parent_id             250112 non-null object\n",
      "created               250112 non-null object\n",
      "edited                13267 non-null object\n",
      "body                  250099 non-null object\n",
      "deleted               250112 non-null int64\n",
      "dtypes: float64(1), int64(7), object(11)\n",
      "memory usage: 36.3+ MB\n"
     ]
    }
   ],
   "source": [
    "# I change this before processsing because it's too hard to do in numpy later.\n",
    "# Really, these things should be figured out in the extraction step anyway.\n",
    "all_comments_labeled.info()"
   ]
  },
  {
   "cell_type": "code",
   "execution_count": 5,
   "metadata": {},
   "outputs": [],
   "source": [
    "comments = all_comments_labeled.copy()\n",
    "comments['edited'] = pd.notnull(comments['edited']).map({True:1,False:0}).astype(int)\n",
    "comments = comments.drop(comments[comments['body'].isnull()].index)"
   ]
  },
  {
   "cell_type": "code",
   "execution_count": 6,
   "metadata": {
    "scrolled": true
   },
   "outputs": [
    {
     "name": "stdout",
     "output_type": "stream",
     "text": [
      "<class 'pandas.core.frame.DataFrame'>\n",
      "Int64Index: 250099 entries, 0 to 250111\n",
      "Data columns (total 19 columns):\n",
      "label                 250099 non-null object\n",
      "sub_title             250099 non-null object\n",
      "sub_domain            250099 non-null object\n",
      "sub_score             250099 non-null int64\n",
      "sub_ratio             250099 non-null float64\n",
      "sub_total_comments    250099 non-null int64\n",
      "comment_id            250099 non-null object\n",
      "submission_id         250099 non-null object\n",
      "user_id               250099 non-null object\n",
      "user_flair            250099 non-null object\n",
      "upvotes               250099 non-null int64\n",
      "controversiality      250099 non-null int64\n",
      "gold                  250099 non-null int64\n",
      "depth                 250099 non-null int64\n",
      "parent_id             250099 non-null object\n",
      "created               250099 non-null object\n",
      "edited                250099 non-null int32\n",
      "body                  250099 non-null object\n",
      "deleted               250099 non-null int64\n",
      "dtypes: float64(1), int32(1), int64(7), object(10)\n",
      "memory usage: 37.2+ MB\n"
     ]
    }
   ],
   "source": [
    "comments.info()"
   ]
  },
  {
   "cell_type": "code",
   "execution_count": 7,
   "metadata": {
    "collapsed": true
   },
   "outputs": [],
   "source": [
    "# Named all the attributes. The only one not here is the label\n",
    "# 'upvotes' is the current label, should be in num_attribs\n",
    "# 'created' is not included\n",
    "num_attribs = ['sub_score','sub_ratio','sub_total_comments']\n",
    "cat_attribs = ['sub_domain','user_flair','gold','depth']\n",
    "bool_attribs = ['edited','deleted','controversiality']\n",
    "id_attribs = ['submission_id','comment_id','user_id','parent_id']\n",
    "str_attribs = ['sub_title','body']"
   ]
  },
  {
   "cell_type": "code",
   "execution_count": 8,
   "metadata": {
    "scrolled": false
   },
   "outputs": [
    {
     "name": "stdout",
     "output_type": "stream",
     "text": [
      "<class 'pandas.core.frame.DataFrame'>\n",
      "Int64Index: 250099 entries, 0 to 250111\n",
      "Data columns (total 12 columns):\n",
      "label                 250099 non-null object\n",
      "sub_domain            250099 non-null object\n",
      "sub_score             250099 non-null int64\n",
      "sub_ratio             250099 non-null float64\n",
      "sub_total_comments    250099 non-null int64\n",
      "user_flair            250099 non-null object\n",
      "upvotes               250099 non-null int64\n",
      "controversiality      250099 non-null int64\n",
      "gold                  250099 non-null int64\n",
      "depth                 250099 non-null int64\n",
      "edited                250099 non-null int32\n",
      "deleted               250099 non-null int64\n",
      "dtypes: float64(1), int32(1), int64(7), object(3)\n",
      "memory usage: 23.9+ MB\n"
     ]
    }
   ],
   "source": [
    "# Drop the columns we won't use for regular predicition\n",
    "def drop_non_data_col(ac):\n",
    "    ac = ac.drop(id_attribs, axis=1)\n",
    "    ac = ac.drop(str_attribs, axis=1)\n",
    "    ac = ac.drop(['created'], axis=1)\n",
    "    return ac\n",
    "\n",
    "ac_data = drop_non_data_col(comments)\n",
    "ac_data.info()"
   ]
  },
  {
   "cell_type": "code",
   "execution_count": 9,
   "metadata": {
    "collapsed": true
   },
   "outputs": [],
   "source": [
    "ac_train, ac_test = split_train_test(ac_data,0.2)"
   ]
  },
  {
   "cell_type": "code",
   "execution_count": 10,
   "metadata": {},
   "outputs": [],
   "source": [
    "ac_tr = ac_train.drop('upvotes',axis=1)\n",
    "ac_tr_label = ac_train['upvotes'].copy()"
   ]
  },
  {
   "cell_type": "markdown",
   "metadata": {},
   "source": [
    "## Split data after this\n",
    "\n",
    "Don't look at test data at all once all the data has been imported and tested properly"
   ]
  },
  {
   "cell_type": "code",
   "execution_count": 11,
   "metadata": {},
   "outputs": [
    {
     "data": {
      "text/plain": [
       "0    189435\n",
       "1     10645\n",
       "Name: edited, dtype: int64"
      ]
     },
     "execution_count": 11,
     "metadata": {},
     "output_type": "execute_result"
    }
   ],
   "source": [
    "ac_tr['edited'].value_counts()"
   ]
  },
  {
   "cell_type": "code",
   "execution_count": 12,
   "metadata": {
    "scrolled": true
   },
   "outputs": [
    {
     "data": {
      "text/plain": [
       "0    189435\n",
       "1     10645\n",
       "Name: edited, dtype: int64"
      ]
     },
     "execution_count": 12,
     "metadata": {},
     "output_type": "execute_result"
    }
   ],
   "source": [
    "ac_tr['edited'].value_counts()"
   ]
  },
  {
   "cell_type": "code",
   "execution_count": 13,
   "metadata": {
    "scrolled": false
   },
   "outputs": [
    {
     "data": {
      "text/plain": [
       "0    183924\n",
       "1     16156\n",
       "Name: controversiality, dtype: int64"
      ]
     },
     "execution_count": 13,
     "metadata": {},
     "output_type": "execute_result"
    }
   ],
   "source": [
    "ac_tr['controversiality'].value_counts()"
   ]
  },
  {
   "cell_type": "code",
   "execution_count": 14,
   "metadata": {
    "scrolled": true
   },
   "outputs": [
    {
     "data": {
      "text/plain": [
       "0    192086\n",
       "1      7994\n",
       "Name: deleted, dtype: int64"
      ]
     },
     "execution_count": 14,
     "metadata": {},
     "output_type": "execute_result"
    }
   ],
   "source": [
    "ac_tr['deleted'].value_counts()"
   ]
  },
  {
   "cell_type": "markdown",
   "metadata": {},
   "source": [
    "The boolean values all seem to be worthwhile using."
   ]
  },
  {
   "cell_type": "code",
   "execution_count": 15,
   "metadata": {
    "scrolled": true
   },
   "outputs": [
    {
     "name": "stdout",
     "output_type": "stream",
     "text": [
      "-------------\n",
      "cbc.ca                         42076\n",
      "self.canada                    20567\n",
      "theglobeandmail.com            14608\n",
      "i.redd.it                       9433\n",
      "globalnews.ca                   8724\n",
      "thestar.com                     7869\n",
      "ctvnews.ca                      5703\n",
      "imgur.com                       4923\n",
      "nationalpost.com                4554\n",
      "youtube.com                     4532\n",
      "macleans.ca                     4162\n",
      "news.nationalpost.com           3987\n",
      "i.imgur.com                     3980\n",
      "twitter.com                     3918\n",
      "huffingtonpost.ca               3241\n",
      "thebeaverton.com                2883\n",
      "business.financialpost.com      2843\n",
      "ottawacitizen.com               2327\n",
      "pbs.twimg.com                   2324\n",
      "vancouversun.com                2251\n",
      "ipolitics.ca                    1775\n",
      "bloomberg.com                   1549\n",
      "beta.theglobeandmail.com        1364\n",
      "montrealgazette.com             1349\n",
      "youtu.be                        1269\n",
      "angusreid.org                   1253\n",
      "pm.gc.ca                        1204\n",
      "torontosun.com                  1139\n",
      "cnews.canoe.com                 1059\n",
      "cp24.com                         989\n",
      "                               ...  \n",
      "newswire.ca                       28\n",
      "i.cbc.ca                          26\n",
      "thecanadianencyclopedia.ca        26\n",
      "canadahistoryproject.ca           24\n",
      "keepyourpromise.ndp.ca            24\n",
      "manchestereveningnews.co.uk       22\n",
      "weather.gc.ca                     22\n",
      "en.m.wikipedia.org                21\n",
      "economist.com                     21\n",
      "therecord.com                     20\n",
      "techdirt.com                      19\n",
      "ottawa.ctvnews.ca                 19\n",
      "onthisday.com                     17\n",
      "us7.campaign-archive1.com         17\n",
      "knightfrank.com                   17\n",
      "billburr.com                      16\n",
      "irishcentral.com                  14\n",
      "engadget.com                      11\n",
      "flic.kr                           10\n",
      "theverge.com                       8\n",
      "csnphilly.com                      8\n",
      "uproxx.com                         8\n",
      "tsn.ca                             8\n",
      "canadalandshow.com                 7\n",
      "pre04.deviantart.net               7\n",
      "nationalgeographic.com             6\n",
      "gov.nu.ca                          6\n",
      "medicinehatnews.com                6\n",
      "media.giphy.com                    5\n",
      "sfchronicle.com                    4\n",
      "Name: sub_domain, Length: 209, dtype: int64\n",
      "-------------\n",
      "None      149984\n",
      "ON         13839\n",
      "BC          7745\n",
      "CAN         7127\n",
      "AB          6116\n",
      "QC          3742\n",
      "poppy       3466\n",
      "MB          2136\n",
      "NB          1496\n",
      "NS          1404\n",
      "SK          1133\n",
      "globe        958\n",
      "NL           355\n",
      "PE           212\n",
      "NU           162\n",
      "NT           112\n",
      "santa         45\n",
      "grinch        17\n",
      "YU            16\n",
      "iran          12\n",
      "sweden         3\n",
      "Name: user_flair, dtype: int64\n",
      "-------------\n",
      "0    200050\n",
      "1        29\n",
      "3         1\n",
      "Name: gold, dtype: int64\n",
      "-------------\n",
      "1    35709\n",
      "2    32401\n",
      "0    28646\n",
      "3    27887\n",
      "4    22355\n",
      "5    17520\n",
      "6    13217\n",
      "7     9749\n",
      "8     7237\n",
      "9     5359\n",
      "Name: depth, dtype: int64\n"
     ]
    }
   ],
   "source": [
    "for x in cat_attribs:\n",
    "    print('-------------')\n",
    "    print(ac_tr[x].value_counts())"
   ]
  },
  {
   "cell_type": "markdown",
   "metadata": {},
   "source": [
    "Gold seems to be useless, may want to drop it. Massive outliers.\n",
    "\n",
    "sub_domain is very wild: large outliers that may need to be changed.\n",
    "\n",
    "user_flair has one large outlier, but the rest are pretty close (this is correlated to the population of canadians)\n",
    "\n",
    "depth is fine. Interesting that there are more replies then posted comments."
   ]
  },
  {
   "cell_type": "markdown",
   "metadata": {},
   "source": [
    "## Format the data"
   ]
  },
  {
   "cell_type": "code",
   "execution_count": 16,
   "metadata": {
    "collapsed": true
   },
   "outputs": [],
   "source": [
    "from sklearn.base import BaseEstimator, TransformerMixin\n",
    "class DataFrameSelector(BaseEstimator,TransformerMixin):\n",
    "    def __init__(self, attribute_names):\n",
    "        self.attribute_names = attribute_names\n",
    "    def fit(self, X, y=None):\n",
    "        return self\n",
    "    def transform(self,X):\n",
    "        return X[self.attribute_names].values"
   ]
  },
  {
   "cell_type": "code",
   "execution_count": 17,
   "metadata": {
    "collapsed": true
   },
   "outputs": [],
   "source": [
    "from sklearn.preprocessing import LabelBinarizer\n",
    "from sklearn.pipeline import Pipeline\n",
    "\n",
    "domain_pipeline = Pipeline([\n",
    "        ('selector', DataFrameSelector(cat_attribs[0])),\n",
    "        ('label_binarizer', LabelBinarizer())\n",
    "    ])\n",
    "user_flair_pipeline = Pipeline([\n",
    "        ('selector', DataFrameSelector(cat_attribs[1])),\n",
    "        ('label_binarizer', LabelBinarizer())\n",
    "    ])\n",
    "gold_pipeline = Pipeline([\n",
    "        ('selector', DataFrameSelector(cat_attribs[2])),\n",
    "        ('label_binarizer', LabelBinarizer())\n",
    "    ])\n",
    "depth_pipeline = Pipeline([\n",
    "        ('selector', DataFrameSelector(cat_attribs[3])),\n",
    "        ('label_binarizer', LabelBinarizer())\n",
    "    ])"
   ]
  },
  {
   "cell_type": "code",
   "execution_count": 18,
   "metadata": {
    "collapsed": true
   },
   "outputs": [],
   "source": [
    "from sklearn.preprocessing import StandardScaler\n",
    "num_pipeline = Pipeline([\n",
    "        ('selector', DataFrameSelector(num_attribs)),\n",
    "        ('std_scaler', StandardScaler())\n",
    "    ])"
   ]
  },
  {
   "cell_type": "code",
   "execution_count": 19,
   "metadata": {
    "collapsed": true
   },
   "outputs": [],
   "source": [
    "bool_pipeline = Pipeline([\n",
    "        ('selector', DataFrameSelector(bool_attribs))\n",
    "])"
   ]
  },
  {
   "cell_type": "code",
   "execution_count": 20,
   "metadata": {
    "collapsed": true
   },
   "outputs": [],
   "source": [
    "from sklearn.pipeline import FeatureUnion\n",
    "\n",
    "full_pipeline = FeatureUnion(transformer_list=[\n",
    "        (\"bool_pipepline\",bool_pipeline),\n",
    "        (\"num_pipepline\",num_pipeline),\n",
    "        (\"domain_pipeline\", domain_pipeline),\n",
    "        (\"user_flair_pipeline\", user_flair_pipeline),\n",
    "        (\"gold_pipeline\", gold_pipeline),\n",
    "        (\"depth_pipeline\", depth_pipeline),\n",
    "    ])"
   ]
  },
  {
   "cell_type": "code",
   "execution_count": 21,
   "metadata": {},
   "outputs": [
    {
     "data": {
      "text/plain": [
       "array([[ 0.,  0.,  0., ...,  0.,  0.,  0.],\n",
       "       [ 0.,  0.,  0., ...,  0.,  0.,  0.],\n",
       "       [ 0.,  0.,  0., ...,  0.,  0.,  0.],\n",
       "       ..., \n",
       "       [ 0.,  1.,  0., ...,  0.,  0.,  0.],\n",
       "       [ 0.,  0.,  0., ...,  0.,  0.,  0.],\n",
       "       [ 0.,  0.,  1., ...,  0.,  0.,  0.]])"
      ]
     },
     "execution_count": 21,
     "metadata": {},
     "output_type": "execute_result"
    }
   ],
   "source": [
    "ac_tr_prepared = full_pipeline.fit_transform(ac_train)\n",
    "ac_tr_prepared"
   ]
  },
  {
   "cell_type": "code",
   "execution_count": 22,
   "metadata": {},
   "outputs": [
    {
     "data": {
      "text/plain": [
       "(200080, 249)"
      ]
     },
     "execution_count": 22,
     "metadata": {},
     "output_type": "execute_result"
    }
   ],
   "source": [
    "ac_tr_prepared.shape"
   ]
  },
  {
   "cell_type": "code",
   "execution_count": 23,
   "metadata": {},
   "outputs": [
    {
     "data": {
      "text/plain": [
       "LinearRegression(copy_X=True, fit_intercept=True, n_jobs=1, normalize=False)"
      ]
     },
     "execution_count": 23,
     "metadata": {},
     "output_type": "execute_result"
    }
   ],
   "source": [
    "from sklearn.linear_model import LinearRegression\n",
    "\n",
    "lin_reg = LinearRegression()\n",
    "lin_reg.fit(ac_tr_prepared, ac_tr_label)"
   ]
  },
  {
   "cell_type": "code",
   "execution_count": 24,
   "metadata": {},
   "outputs": [
    {
     "name": "stdout",
     "output_type": "stream",
     "text": [
      "predictions:\t [  1.95736694   2.89160156   6.73477173   3.56982422  19.75454712]\n",
      "Labels:\t\t [6, 15, 5, 18, 3]\n"
     ]
    }
   ],
   "source": [
    "some_data = ac_tr.iloc[:5]\n",
    "some_labels = ac_tr_label.iloc[:5]\n",
    "some_data_prepared = full_pipeline.transform(some_data)\n",
    "print(\"predictions:\\t\", lin_reg.predict(some_data_prepared))\n",
    "print(\"Labels:\\t\\t\", list(some_labels))"
   ]
  },
  {
   "cell_type": "code",
   "execution_count": 25,
   "metadata": {},
   "outputs": [
    {
     "data": {
      "text/plain": [
       "43.463991464096416"
      ]
     },
     "execution_count": 25,
     "metadata": {},
     "output_type": "execute_result"
    }
   ],
   "source": [
    "from sklearn.metrics import mean_squared_error\n",
    "\n",
    "ac_predictions = lin_reg.predict(ac_tr_prepared)\n",
    "lin_mse = mean_squared_error(ac_tr_label, ac_predictions)\n",
    "lin_rmse = np.sqrt(lin_mse)\n",
    "lin_rmse"
   ]
  },
  {
   "cell_type": "code",
   "execution_count": 26,
   "metadata": {},
   "outputs": [
    {
     "data": {
      "text/plain": [
       "36.435088431477709"
      ]
     },
     "execution_count": 26,
     "metadata": {},
     "output_type": "execute_result"
    }
   ],
   "source": [
    "from sklearn.tree import DecisionTreeRegressor\n",
    "\n",
    "tree_reg = DecisionTreeRegressor()\n",
    "tree_reg.fit(ac_tr_prepared, ac_tr_label)\n",
    "\n",
    "ac_predictions = tree_reg.predict(ac_tr_prepared)\n",
    "tree_mse = mean_squared_error(ac_tr_label, ac_predictions)\n",
    "tree_rmse = np.sqrt(tree_mse)\n",
    "tree_rmse"
   ]
  },
  {
   "cell_type": "code",
   "execution_count": 29,
   "metadata": {},
   "outputs": [
    {
     "name": "stdout",
     "output_type": "stream",
     "text": [
      "predictions:\t [  2.6         15.           3.5          9.33333333   2.5         10.14285714\n",
      "   5.61538462   0.25        17.83333333 -16.        ]\n",
      "Labels:\t\t [6, 15, 5, 18, 3, 17, 2, 1, 43, -16]\n"
     ]
    }
   ],
   "source": [
    "some_data = ac_tr.iloc[:10]\n",
    "some_labels = ac_tr_label.iloc[:10]\n",
    "some_data_prepared = full_pipeline.transform(some_data)\n",
    "print(\"predictions:\\t\", tree_reg.predict(some_data_prepared))\n",
    "print(\"Labels:\\t\\t\", list(some_labels))"
   ]
  },
  {
   "cell_type": "markdown",
   "metadata": {},
   "source": [
    "## Search for parameters"
   ]
  },
  {
   "cell_type": "code",
   "execution_count": 28,
   "metadata": {},
   "outputs": [
    {
     "ename": "NameError",
     "evalue": "name 'RandomForestRegressor' is not defined",
     "output_type": "error",
     "traceback": [
      "\u001b[1;31m---------------------------------------------------------------------------\u001b[0m",
      "\u001b[1;31mNameError\u001b[0m                                 Traceback (most recent call last)",
      "\u001b[1;32m<ipython-input-28-90788a426b51>\u001b[0m in \u001b[0;36m<module>\u001b[1;34m()\u001b[0m\n\u001b[0;32m      6\u001b[0m   ]\n\u001b[0;32m      7\u001b[0m \u001b[1;33m\u001b[0m\u001b[0m\n\u001b[1;32m----> 8\u001b[1;33m \u001b[0mfores_reg\u001b[0m \u001b[1;33m=\u001b[0m \u001b[0mRandomForestRegressor\u001b[0m\u001b[1;33m(\u001b[0m\u001b[1;33m)\u001b[0m\u001b[1;33m\u001b[0m\u001b[0m\n\u001b[0m\u001b[0;32m      9\u001b[0m \u001b[1;33m\u001b[0m\u001b[0m\n\u001b[0;32m     10\u001b[0m grid_search = GridSearchCV(forest_reg, param_grid, cv=5,\n",
      "\u001b[1;31mNameError\u001b[0m: name 'RandomForestRegressor' is not defined"
     ]
    }
   ],
   "source": [
    "from sklearn.model_selection import GridSearchCV\n",
    "\n",
    "param_grid = [\n",
    "    {'n_estimators': [3, 10, 30], 'max_features': [2, 4, 6, 8]},\n",
    "    {'bootstrap': [False], 'n_estimators': [3, 10], 'max_features': [2, 3, 4]},\n",
    "  ]\n",
    "\n",
    "fores_reg = RandomForestRegressor()\n",
    "\n",
    "grid_search = GridSearchCV(forest_reg, param_grid, cv=5,\n",
    "                           scoring='neg_mean_squared_error')\n",
    "grid_search.fit(housing_prepared, housing_labels)"
   ]
  }
 ],
 "metadata": {
  "kernelspec": {
   "display_name": "Python 3",
   "language": "python",
   "name": "python3"
  }
 },
 "nbformat": 4,
 "nbformat_minor": 2
}
